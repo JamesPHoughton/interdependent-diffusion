{
 "cells": [
  {
   "cell_type": "code",
   "execution_count": 7,
   "metadata": {},
   "outputs": [
    {
     "name": "stdout",
     "output_type": "stream",
     "text": [
      "Populating the interactive namespace from numpy and matplotlib\n"
     ]
    }
   ],
   "source": [
    "%pylab inline"
   ]
  },
  {
   "cell_type": "code",
   "execution_count": 5,
   "metadata": {},
   "outputs": [
    {
     "name": "stdout",
     "output_type": "stream",
     "text": [
      "0\n",
      "1\n",
      "2\n",
      "3\n",
      "4\n"
     ]
    }
   ],
   "source": [
    "# James replication\n",
    "\n",
    "import networkx as nx\n",
    "import numpy as np\n",
    "import operator as op\n",
    "import itertools\n",
    "from past.builtins import xrange\n",
    "\n",
    "from functools import reduce\n",
    "\n",
    "def ncr(n, r):\n",
    "    r = min(r, n-r)\n",
    "    numer = reduce(op.mul, xrange(n, n-r, -1), 1)\n",
    "    denom = reduce(op.mul, xrange(1, r+1), 1)\n",
    "    return numer//denom\n",
    "\n",
    "\n",
    "# 0a. Friendship parameters\n",
    "N = 40 # agents\n",
    "d = 4 # mean neighbours\n",
    "\n",
    "# 0b. Belief parameters\n",
    "# Belief is a relationship between concepts\n",
    "# Init: For each individual, throw 25 random connections at 30 concept nodes \n",
    "nconcepts = 30\n",
    "beliefs = 25\n",
    "\n",
    "# 0c. Progam variables\n",
    "sims = 5\n",
    "periods = 10\n",
    "susceptibility = np.zeros((sims,periods,ncr(nconcepts,2))) # Collate # of people who are susceptible to specific belief\n",
    "adopted = np.zeros((sims,periods,ncr(nconcepts,2))) # Collate # of people who addopt specific belief\n",
    "# List of all possible beliefs\n",
    "belief_universe = list(itertools.combinations(np.arange(nconcepts),2))\n",
    "\n",
    "\n",
    "# 1. Diffusion/Adoption/belief update\n",
    "# Nature of adoption: binary, permanent, deterministric (Watts 2002)\n",
    "# Update beliefs in a random, asynchronous order (DellaPosta et al. 2015)\n",
    "# Multiple beliefs diffuse simultaneously\n",
    "# Beliefs are compatible with one another\n",
    "# Beliefs have a symmetric influence over one another's adoption\n",
    "# Depends on consistency of belief with existing semantic network\n",
    "# Depends on exposure to beliefs that lie in local semantic space\n",
    "# Belief is adopted if it closes a triangle in existing semantic network\n",
    "for s in np.arange(sims):\n",
    "\tprint(s)\n",
    "\n",
    "\t# build new friendship network: randomly connected\n",
    "\tG = nx.dense_gnm_random_graph(40,(d*N)/2) \n",
    "\t# build new belief network for each person\n",
    "\tB = []\n",
    "\tfor i in np.arange(N):\n",
    "\t\tB.append(nx.dense_gnm_random_graph(nconcepts,beliefs))\n",
    "\n",
    "\tfor p in np.arange(periods):\n",
    "\t\tfor i in np.arange(N):\n",
    "\t\t\t# Find ego's belief susceptibility\n",
    "\t\t\tposs_beliefs = []\n",
    "\t\t\tfor idx,t in enumerate(belief_universe): # get every tuple of possible belifs\n",
    "\t\t\t\ta = t[0]\n",
    "\t\t\t\tb = t[1]\n",
    "\t\t\t\ttry: \n",
    "\t\t\t\t\tnx.shortest_path_length(B[i],a,b)\n",
    "\t\t\t\t\tif (nx.shortest_path_length(B[i],a,b)==2): # Check if it completes triangle\n",
    "\t\t\t\t\t\tposs_beliefs.append(t) # add to possible beliefs\n",
    "\t\t\t\t\t\tsusceptibility[s,p,idx] = susceptibility[s,p,idx] + 1 # store that this specific (a,b) belief has one more person susceptible to it, in this period\n",
    "\t\t\t\texcept:\n",
    "\t\t\t\t\tpass\t\t\t\t\n",
    "\t\t\t# Find neighbours\n",
    "\t\t\tneighbors = list(G.neighbors(i))\n",
    "\t\t\t# Collate neighbours' beliefs\n",
    "\t\t\tall_neighbor_beliefs = []\n",
    "\t\t\tfor n in neighbors:\n",
    "\t\t\t\t# Add unique beliefs \n",
    "\t\t\t\tall_neighbor_beliefs = list(set(all_neighbor_beliefs + list(B[n].edges())))\n",
    "\t\t\t# Find the neighbor beliefs that intersect with poss_beliefs\n",
    "\t\t\tadopted_beliefs = list(set(poss_beliefs) & set(all_neighbor_beliefs))\n",
    "\t\t\t# Update beliefs\n",
    "\t\t\tB[i].add_edges_from(adopted_beliefs)\n",
    "\t\t\t# Store those beliefs as having one more adopter\n",
    "\t\t\tfor ab in adopted_beliefs:\n",
    "\t\t\t\tidx = belief_universe.index(ab)\n",
    "\t\t\t\tadopted[s,p,idx] = adopted[s,p,idx] + 1\n",
    "\t\n",
    "\n",
    "# A. Process data\n",
    "# Assuming that percent diffusion means average proportion of people who believe average beliefnp.\n",
    "adopted = adopted/N # Get proportions\n",
    "adopted_by_p = np.mean(np.mean(adopted,axis=0),axis=1) # flatten across simulations and beliefs\n",
    "susceptibility = susceptibility/N\n",
    "sus_by_p = np.mean(np.mean(susceptibility,axis=0),axis=1)\n",
    "\n",
    "# write files\n",
    "#np.savetxt('sus.txt', sus_by_p, delimiter=',')\n",
    "#np.savetxt('abyp.txt', adopted_by_p, delimiter=',')\n",
    "\n",
    "\n",
    "\n",
    "\n",
    "\n"
   ]
  },
  {
   "cell_type": "code",
   "execution_count": 14,
   "metadata": {},
   "outputs": [
    {
     "name": "stdout",
     "output_type": "stream",
     "text": [
      "0\n",
      "1\n",
      "2\n",
      "3\n",
      "4\n"
     ]
    }
   ],
   "source": [
    "def ncr(n, r):\n",
    "    r = min(r, n-r)\n",
    "    numer = reduce(op.mul, xrange(n, n-r, -1), 1)\n",
    "    denom = reduce(op.mul, xrange(1, r+1), 1)\n",
    "    return numer//denom\n",
    "\n",
    "\n",
    "# 0a. Friendship parameters\n",
    "N = 40 # agents\n",
    "d = 4 # mean neighbours\n",
    "\n",
    "# 0b. Belief parameters\n",
    "# Belief is a relationship between concepts\n",
    "# Init: For each individual, throw 25 random connections at 30 concept nodes \n",
    "nconcepts = 30\n",
    "beliefs = 25\n",
    "\n",
    "# 0c. Progam variables\n",
    "sims = 5\n",
    "periods = 10\n",
    "susceptibility = np.zeros((sims,periods,ncr(nconcepts,2))) # Collate # of people who are susceptible to specific belief\n",
    "adopted = np.zeros((sims,periods,ncr(nconcepts,2))) # Collate # of people who addopt specific belief\n",
    "# List of all possible beliefs\n",
    "belief_universe = list(itertools.combinations(np.arange(nconcepts),2))\n",
    "\n",
    "\n",
    "# 1. Diffusion/Adoption/belief update\n",
    "# Nature of adoption: binary, permanent, deterministric (Watts 2002)\n",
    "# Update beliefs in a random, asynchronous order (DellaPosta et al. 2015)\n",
    "# Multiple beliefs diffuse simultaneously\n",
    "# Beliefs are compatible with one another\n",
    "# Beliefs have a symmetric influence over one another's adoption\n",
    "# Depends on consistency of belief with existing semantic network\n",
    "# Depends on exposure to beliefs that lie in local semantic space\n",
    "# Belief is adopted if it closes a triangle in existing semantic network\n",
    "for s in np.arange(sims):\n",
    "\tprint(s)\n",
    "\n",
    "\t# build new friendship network: randomly connected\n",
    "\tG = nx.dense_gnm_random_graph(40,(d*N)/2) \n",
    "\t# build new belief network for each person\n",
    "\tB = []\n",
    "\tfor i in np.arange(N):\n",
    "\t\tB.append(nx.dense_gnm_random_graph(nconcepts,beliefs))\n",
    "\n",
    "\tfor p in np.arange(periods):\n",
    "\t\tfor i in np.arange(N): # agents\n",
    "\t\t\t# Find ego's belief susceptibility\n",
    "\t\t\tposs_beliefs = []\n",
    "\t\t\tfor idx,t in enumerate(belief_universe): # get every tuple of possible belifs\n",
    "\t\t\t\ta = t[0]\n",
    "\t\t\t\tb = t[1]\n",
    "\t\t\t\ttry: \n",
    "\t\t\t\t\t#nx.shortest_path_length(B[i],a,b) #doesnt do anything?\n",
    "\t\t\t\t\tif (nx.shortest_path_length(B[i],a,b)==2): # Check if it completes triangle\n",
    "\t\t\t\t\t\tposs_beliefs.append(t) # add to possible beliefs\n",
    "\t\t\t\t\t\tsusceptibility[s,p,idx] = susceptibility[s,p,idx] + 1 # store that this specific (a,b) belief has one more person susceptible to it, in this period\n",
    "\t\t\t\texcept:\n",
    "\t\t\t\t\tpass\t\t\t\t\n",
    "\t\t\t# Find neighbours\n",
    "\t\t\tneighbors = list(G.neighbors(i))\n",
    "\t\t\t# Collate neighbours' beliefs\n",
    "\t\t\tall_neighbor_beliefs = []\n",
    "\t\t\tfor n in neighbors:\n",
    "\t\t\t\t# Add unique beliefs \n",
    "\t\t\t\tall_neighbor_beliefs = list(set(all_neighbor_beliefs + list(B[n].edges())))\n",
    "\t\t\t# Find the neighbor beliefs that intersect with poss_beliefs\n",
    "\t\t\tadopted_beliefs = list(set(poss_beliefs) & set(all_neighbor_beliefs))\n",
    "\t\t\t# Update beliefs\n",
    "\t\t\tB[i].add_edges_from(adopted_beliefs)\n",
    "\t\t\t# Store those beliefs as having one more adopter\n",
    "\t\t\tfor ab in adopted_beliefs:\n",
    "\t\t\t\tidx = belief_universe.index(ab)\n",
    "\t\t\t\tadopted[s,p,idx] = adopted[s,p,idx] + 1\n",
    "\t\n",
    "\n",
    "# A. Process data\n",
    "# Assuming that percent diffusion means average proportion of people who believe average beliefnp.\n",
    "adopted_proportion = adopted/N # Get proportions\n",
    "#adopted_by_p = np.mean(np.mean(adopted,axis=0),axis=1) # flatten across simulations and beliefs\n",
    "susceptibility_proportion = susceptibility/N\n",
    "#sus_by_p = np.mean(np.mean(susceptibility,axis=0),axis=1)\n",
    "\n",
    "# write files\n",
    "#np.savetxt('sus.txt', sus_by_p, delimiter=',')\n",
    "#np.savetxt('abyp.txt', adopted_by_p, delimiter=',')\n",
    "\n"
   ]
  },
  {
   "cell_type": "code",
   "execution_count": 21,
   "metadata": {},
   "outputs": [
    {
     "data": {
      "text/plain": [
       "(0, 50)"
      ]
     },
     "execution_count": 21,
     "metadata": {},
     "output_type": "execute_result"
    },
    {
     "data": {
      "image/png": "[encoded data removed]",
      "text/plain": [
       "<Figure size 1440x288 with 1 Axes>"
      ]
     },
     "metadata": {},
     "output_type": "display_data"
    }
   ],
   "source": [
    "plt.figure(figsize=(20,4))\n",
    "plt.imshow(adopted[0])\n",
    "plt.xlim(0,50)"
   ]
  },
  {
   "cell_type": "code",
   "execution_count": 26,
   "metadata": {},
   "outputs": [
    {
     "data": {
      "text/plain": [
       "(0, 100)"
      ]
     },
     "execution_count": 26,
     "metadata": {},
     "output_type": "execute_result"
    },
    {
     "data": {
      "image/png": "[encoded data removed]",
      "text/plain": [
       "<Figure size 1440x288 with 1 Axes>"
      ]
     },
     "metadata": {},
     "output_type": "display_data"
    }
   ],
   "source": [
    "cumulative = adopted[0].cumsum(axis=0)\n",
    "plt.figure(figsize=(20,4))\n",
    "plt.imshow(cumulative)\n",
    "plt.xlim(0,100)"
   ]
  },
  {
   "cell_type": "code",
   "execution_count": 32,
   "metadata": {},
   "outputs": [
    {
     "data": {
      "text/plain": [
       "[<matplotlib.lines.Line2D at 0xa20b9ad68>]"
      ]
     },
     "execution_count": 32,
     "metadata": {},
     "output_type": "execute_result"
    },
    {
     "data": {
      "image/png": "[encoded data removed]",
      "text/plain": [
       "<Figure size 432x288 with 1 Axes>"
      ]
     },
     "metadata": {},
     "output_type": "display_data"
    }
   ],
   "source": [
    "plt.plot(cumulative.mean(axis=1)/40)"
   ]
  },
  {
   "cell_type": "code",
   "execution_count": null,
   "metadata": {},
   "outputs": [],
   "source": []
  }
 ],
 "metadata": {
  "kernelspec": {
   "display_name": "Python 3",
   "language": "python",
   "name": "python3"
  },
  "language_info": {
   "codemirror_mode": {
    "name": "ipython",
    "version": 3
   },
   "file_extension": ".py",
   "mimetype": "text/x-python",
   "name": "python",
   "nbconvert_exporter": "python",
   "pygments_lexer": "ipython3",
   "version": "3.6.6"
  }
 },
 "nbformat": 4,
 "nbformat_minor": 2
}
