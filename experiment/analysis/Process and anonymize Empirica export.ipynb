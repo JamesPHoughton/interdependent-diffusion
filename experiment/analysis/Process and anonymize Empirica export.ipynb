{
 "cells": [
  {
   "cell_type": "markdown",
   "metadata": {},
   "source": [
    "# Postprocess and anonymize empirica export\n",
    "\n",
    "This `Python` notebook:\n",
    "- combines the various information that empirica exports into a useable structure\n",
    "- removes mechanical turk IDs and url parameters to anonymize data\n",
    "- removes survey questions about fair pay, enough time, and general feedback\n",
    "- combines into blocks that are analyzed together (you have to specify which games go in which blocks)\n",
    "- exports each block to a file in the `results-anonymized` folder"
   ]
  },
  {
   "cell_type": "code",
   "execution_count": 1,
   "metadata": {},
   "outputs": [],
   "source": [
    "import json\n",
    "from os import path"
   ]
  },
  {
   "cell_type": "markdown",
   "metadata": {},
   "source": [
    "## Load Data"
   ]
  },
  {
   "cell_type": "code",
   "execution_count": 38,
   "metadata": {},
   "outputs": [],
   "source": [
    "#source_dir = \"../results-sensitive/pilot/20200626/jsonl/\"\n",
    "source_dir = \"../results-sensitive/experiment/data/ServerA/\"\n",
    "output_dir = \"../results-anonymized/experiment/\"\n"
   ]
  },
  {
   "cell_type": "code",
   "execution_count": 39,
   "metadata": {},
   "outputs": [
    {
     "name": "stdout",
     "output_type": "stream",
     "text": [
      "0 2020-07-08T23:23:47.490Z playWithBots\n",
      "1 2020-07-09T12:06:10.618Z playWithBots\n",
      "2 2020-07-09T15:40:58.667Z playWithBots\n",
      "3 2020-07-09T16:29:18.486Z block_3_caveman_prereg_20200702_170602\n",
      "4 2020-07-09T16:29:18.739Z block_3_dodec_prereg_20200702_170602\n",
      "5 2020-07-09T18:28:12.492Z block_5_dodec_prereg_20200702_170602\n",
      "6 2020-07-09T18:28:30.595Z block_5_caveman_prereg_20200702_170602\n",
      "7 2020-07-09T20:32:04.739Z block_8_dodec_prereg_20200702_170602\n",
      "8 2020-07-09T20:32:27.358Z block_8_caveman_prereg_20200702_170602\n",
      "9 2020-07-10T16:33:12.038Z block_12_dodec_prereg_20200702_170602\n",
      "10 2020-07-10T16:33:18.935Z block_12_caveman_prereg_20200702_170602\n",
      "11 2020-07-10T18:34:18.377Z block_15_dodec_prereg_20200702_170602\n",
      "12 2020-07-10T18:34:52.110Z block_15_caveman_prereg_20200702_170602\n",
      "13 2020-07-10T20:32:41.903Z block_17_dodec_prereg_20200702_170602\n",
      "14 2020-07-10T20:33:44.500Z block_17_caveman_prereg_20200702_170602\n",
      "15 2020-07-11T16:39:40.473Z block_19_caveman_prereg_20200702_170602\n",
      "16 2020-07-11T16:40:22.263Z block_19_dodec_prereg_20200702_170602\n",
      "17 2020-07-11T18:44:44.187Z block_20_dodec_prereg_20200702_170602\n",
      "18 2020-07-11T18:45:49.694Z block_20_caveman_prereg_20200702_170602\n",
      "19 2020-07-13T16:35:34.824Z block_21_caveman_prereg_20200702_170602\n",
      "20 2020-07-13T16:37:57.245Z block_21_dodec_prereg_20200702_170602\n",
      "21 2020-07-13T18:36:23.211Z block_22_dodec_prereg_20200702_170602\n",
      "22 2020-07-13T18:36:25.862Z block_22_caveman_prereg_20200702_170602\n",
      "23 2020-07-13T20:35:30.468Z block_23_dodec_prereg_20200702_170602\n",
      "24 2020-07-13T20:36:44.722Z block_23_caveman_prereg_20200702_170602\n",
      "25 2020-07-15T16:34:26.989Z block_24_caveman_prereg_20200702_170602\n",
      "26 2020-07-15T16:34:32.848Z block_24_dodec_prereg_20200702_170602\n",
      "27 2020-07-15T18:34:53.061Z block_25_caveman_prereg_20200702_170602\n",
      "28 2020-07-15T18:35:30.498Z block_25_dodec_prereg_20200702_170602\n",
      "29 2020-07-15T20:48:29.581Z block_27_caveman_prereg_20200702_170602\n",
      "30 2020-07-15T20:49:33.329Z block_27_dodec_prereg_20200702_170602\n",
      "31 2020-07-16T16:37:59.600Z block_28_caveman_prereg_20200702_170602\n",
      "32 2020-07-16T16:38:08.344Z block_28_dodec_prereg_20200702_170602\n",
      "33 2020-07-16T18:50:41.184Z block_29_caveman_prereg_20200702_170602\n",
      "34 2020-07-16T18:53:32.155Z block_29_dodec_prereg_20200702_170602\n"
     ]
    }
   ],
   "source": [
    "players = []\n",
    "with open(source_dir + 'players.jsonl', 'r') as f:\n",
    "    for line in f:\n",
    "        player_data = json.loads(line)\n",
    "        # remove identifying information\n",
    "        player_data.pop('id')\n",
    "        player_data.pop('urlParams')\n",
    "        \n",
    "        if 'data.survey' in player_data:\n",
    "            player_data['data.survey'].pop('strength')\n",
    "            player_data['data.survey'].pop('fair')\n",
    "            player_data['data.survey'].pop('feedback')\n",
    "            player_data['data.survey'].pop('time')\n",
    "            \n",
    "        if 'exitStatus' in player_data:    \n",
    "            if player_data['exitStatus'] != 'gameFull':\n",
    "                players.append(player_data)\n",
    "\n",
    "games = []\n",
    "with open(source_dir + 'games.jsonl', 'r') as f:\n",
    "    for line in f:\n",
    "        games.append(json.loads(line))\n",
    "        \n",
    "treatments = []\n",
    "with open(source_dir + 'treatments.jsonl', 'r') as f:\n",
    "    for line in f:\n",
    "        treatments.append(json.loads(line))\n",
    "\n",
    "logs = []\n",
    "with open(source_dir + 'player-logs.jsonl', 'r') as f:\n",
    "    for line in f:\n",
    "        entry = json.loads(line)\n",
    "        entry['data'] = json.loads(entry['jsonData'])\n",
    "        logs.append(entry)  \n",
    "        \n",
    "stages = []\n",
    "with open(source_dir + 'stages.jsonl', 'r') as f:\n",
    "    for line in f:\n",
    "        stages.append(json.loads(line)) \n",
    "        \n",
    "# match games, players, treatments, and log info\n",
    "loaded_games = []\n",
    "for game in games:\n",
    "    game['players'] = {pl['_id']:pl for pl in players if pl['_id'] in game['playerIds']}\n",
    "    treatment = [t for t in treatments if t[\"_id\"] == game['treatmentId']][0]\n",
    "    game['gameSetupId'] = treatment['name']\n",
    "    game['log'] = [l for l in logs if l['gameId'] == game['_id']]\n",
    "    game['stages'] = [r for r in stages if r['gameId'] == game['_id']]\n",
    "    \n",
    "    loaded_games.append(game)\n",
    "    \n",
    "for i, game in enumerate(loaded_games):\n",
    "    print(i, game['createdAt'], game['gameSetupId'])"
   ]
  },
  {
   "cell_type": "markdown",
   "metadata": {},
   "source": [
    "## Construct Blocks\n",
    "Each block contains a set of games that should be processed together"
   ]
  },
  {
   "cell_type": "code",
   "execution_count": 40,
   "metadata": {},
   "outputs": [
    {
     "name": "stdout",
     "output_type": "stream",
     "text": [
      "../results-anonymized/experiment/block_3.json already exists. Be careful if you don't want to overwrite\n",
      "../results-anonymized/experiment/block_5.json already exists. Be careful if you don't want to overwrite\n",
      "../results-anonymized/experiment/block_8.json already exists. Be careful if you don't want to overwrite\n",
      "../results-anonymized/experiment/block_12.json already exists. Be careful if you don't want to overwrite\n",
      "../results-anonymized/experiment/block_15.json already exists. Be careful if you don't want to overwrite\n",
      "../results-anonymized/experiment/block_17.json already exists. Be careful if you don't want to overwrite\n",
      "../results-anonymized/experiment/block_19.json already exists. Be careful if you don't want to overwrite\n",
      "../results-anonymized/experiment/block_20.json already exists. Be careful if you don't want to overwrite\n",
      "../results-anonymized/experiment/block_21.json already exists. Be careful if you don't want to overwrite\n",
      "../results-anonymized/experiment/block_22.json already exists. Be careful if you don't want to overwrite\n",
      "../results-anonymized/experiment/block_23.json already exists. Be careful if you don't want to overwrite\n",
      "../results-anonymized/experiment/block_24.json already exists. Be careful if you don't want to overwrite\n",
      "../results-anonymized/experiment/block_25.json already exists. Be careful if you don't want to overwrite\n",
      "../results-anonymized/experiment/block_27.json already exists. Be careful if you don't want to overwrite\n"
     ]
    }
   ],
   "source": [
    "# adjust these to process new data\n",
    "# Server A\n",
    "blocks = {\n",
    "    \"block_3\": [3,4],\n",
    "    \"block_5\": [5,6],\n",
    "    \"block_8\": [7,8],\n",
    "    \"block_12\": [9,10],\n",
    "    \"block_15\": [11,12],\n",
    "    \"block_17\": [13,14],\n",
    "    \"block_19\": [15,16],\n",
    "    \"block_20\": [17,18],\n",
    "    \"block_21\": [19,20],\n",
    "    \"block_22\": [21,22],\n",
    "    \"block_23\": [23,24],\n",
    "    \"block_24\": [25,26],\n",
    "    \"block_25\": [27,28],\n",
    "    \"block_27\": [29,30],\n",
    "    \"block_28\": [31,32],\n",
    "    \"block_29\": [33,34],\n",
    "}\n",
    "\n",
    "# server B\n",
    "# blocks = {\n",
    "#     \"block_4\": [0,1],\n",
    "#     \"block_6\": [2,3],\n",
    "#     \"block_9\": [4,5],\n",
    "#     \"block_13\": [6,7],\n",
    "#     \"block_16\": [8,9],\n",
    "#     \"block_18\": [10,11],\n",
    "#     \"block_26\": [12,13]\n",
    "# }\n",
    "\n",
    "# server C\n",
    "# blocks = {\n",
    "#     \"block_7\": [0,1],\n",
    "#     \"block_10\": [2,3],\n",
    "#     \"block_14\": [4,5],\n",
    "# }\n",
    "\n",
    "# # server D\n",
    "# blocks = {\n",
    "#     \"block_11\": [0,1],\n",
    "# }\n",
    "\n",
    "# server T\n",
    "# blocks = {\n",
    "#     \"block_0\": [1,2],\n",
    "#     \"block_1\": [3,4],\n",
    "#     \"block_2\": [5,6],\n",
    "# }\n",
    "\n",
    "# blocks = {\n",
    "#     \"block_20200624_pilot\": [1],\n",
    "#     \"block_20200626_pilot\": [2],\n",
    "# }\n",
    "\n",
    "for block_name, games_list in blocks.items(): \n",
    "    outfile_name = output_dir + block_name + '.json'\n",
    "    if path.exists(outfile_name):\n",
    "        print(outfile_name + \" already exists. Be careful if you don't want to overwrite\")"
   ]
  },
  {
   "cell_type": "code",
   "execution_count": 41,
   "metadata": {},
   "outputs": [
    {
     "name": "stdout",
     "output_type": "stream",
     "text": [
      "Writing [3, 4] to ../results-anonymized/experiment/block_3.json\n",
      "Writing [5, 6] to ../results-anonymized/experiment/block_5.json\n",
      "Writing [7, 8] to ../results-anonymized/experiment/block_8.json\n",
      "Writing [9, 10] to ../results-anonymized/experiment/block_12.json\n",
      "Writing [11, 12] to ../results-anonymized/experiment/block_15.json\n",
      "Writing [13, 14] to ../results-anonymized/experiment/block_17.json\n",
      "Writing [15, 16] to ../results-anonymized/experiment/block_19.json\n",
      "Writing [17, 18] to ../results-anonymized/experiment/block_20.json\n",
      "Writing [19, 20] to ../results-anonymized/experiment/block_21.json\n",
      "Writing [21, 22] to ../results-anonymized/experiment/block_22.json\n",
      "Writing [23, 24] to ../results-anonymized/experiment/block_23.json\n",
      "Writing [25, 26] to ../results-anonymized/experiment/block_24.json\n",
      "Writing [27, 28] to ../results-anonymized/experiment/block_25.json\n",
      "Writing [29, 30] to ../results-anonymized/experiment/block_27.json\n",
      "Writing [31, 32] to ../results-anonymized/experiment/block_28.json\n",
      "Writing [33, 34] to ../results-anonymized/experiment/block_29.json\n"
     ]
    }
   ],
   "source": [
    "for block_name, games_list in blocks.items(): \n",
    "    obj = {loaded_games[i]['gameSetupId']: loaded_games[i] for i in games_list}\n",
    "    outfile_name = output_dir + block_name + '.json'\n",
    "    with open(outfile_name, 'w') as f:\n",
    "        print(\"Writing \" + str(games_list) + \" to \" + outfile_name)\n",
    "        json.dump(obj, f)"
   ]
  },
  {
   "cell_type": "code",
   "execution_count": null,
   "metadata": {},
   "outputs": [],
   "source": []
  }
 ],
 "metadata": {
  "kernelspec": {
   "display_name": "Python 3",
   "language": "python",
   "name": "python3"
  },
  "language_info": {
   "codemirror_mode": {
    "name": "ipython",
    "version": 3
   },
   "file_extension": ".py",
   "mimetype": "text/x-python",
   "name": "python",
   "nbconvert_exporter": "python",
   "pygments_lexer": "ipython3",
   "version": "3.7.6"
  }
 },
 "nbformat": 4,
 "nbformat_minor": 2
}
